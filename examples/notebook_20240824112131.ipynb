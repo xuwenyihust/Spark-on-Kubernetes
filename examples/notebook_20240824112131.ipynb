{
 "cells": [
  {
   "cell_type": "markdown",
   "isExecuted": true,
   "metadata": {},
   "source": [
    "# My Notebook Test"
   ]
  },
  {
   "cell_type": "code",
   "execution_count": 1,
   "isExecuted": false,
   "lastExecutionResult": "error",
   "lastExecutionTime": "2024-08-24 03:22:11",
   "metadata": {},
   "outputs": [
    {
     "ename": "NameError",
     "evalue": "name 'spark' is not defined",
     "output_type": "error",
     "traceback": [
      "\u001b[0;31m---------------------------------------------------------------------------\u001b[0m",
      "\u001b[0;31mNameError\u001b[0m                                 Traceback (most recent call last)",
      "Cell \u001b[0;32mIn[1], line 2\u001b[0m\n\u001b[1;32m      1\u001b[0m \u001b[38;5;66;03m# SparkSession: spark is already created\u001b[39;00m\n\u001b[0;32m----> 2\u001b[0m \u001b[43mspark\u001b[49m\n",
      "\u001b[0;31mNameError\u001b[0m: name 'spark' is not defined"
     ]
    }
   ],
   "source": [
    "# SparkSession: spark is already created\n",
    "spark"
   ]
  }
 ],
 "metadata": {
  "kernelspec": {
   "display_name": "Python 3",
   "name": "python3"
  },
  "language_info": {
   "name": "python"
  },
  "uuid": "cc642d57-9d43-473c-932f-81da6b3086e3"
 },
 "nbformat": 4,
 "nbformat_minor": 4
}
