{
 "cells": [
  {
   "cell_type": "markdown",
   "isExecuted": true,
   "metadata": {},
   "source": [
    "# Demo Notebook\n",
    "\n",
    "- This is just a demo notebook\n",
    "- For testing only"
   ]
  }
 ],
 "metadata": {
  "kernelspec": {
   "display_name": "Python 3 (ipykernel)",
   "language": "python",
   "name": "python3"
  },
  "language_info": {
   "codemirror_mode": {
    "name": "ipython",
    "version": 3
   },
   "file_extension": ".py",
   "mimetype": "text/x-python",
   "name": "python",
   "nbconvert_exporter": "python",
   "pygments_lexer": "ipython3",
   "version": "3.11.6"
  },
  "uuid": "647a82de-693a-48f0-ae3a-64a771d83da5"
 },
 "nbformat": 4,
 "nbformat_minor": 4
}
