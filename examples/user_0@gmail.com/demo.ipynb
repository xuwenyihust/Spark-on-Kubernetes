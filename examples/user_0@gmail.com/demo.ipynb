{
 "cells": [
  {
   "cell_type": "code",
   "isExecuted": true,
   "lastExecutionResult": "success",
   "lastExecutionTime": "2024-12-10 03:27:50",
   "metadata": {},
   "outputs": [
    {
     "data": {
      "text/html": [
       "\n",
       "            <div>\n",
       "                <p><b>SparkSession - in-memory</b></p>\n",
       "                \n",
       "        <div>\n",
       "            <p><b>SparkContext</b></p>\n",
       "\n",
       "            <p><a href=\"http://8e207d700c27:4040\">Spark UI</a></p>\n",
       "\n",
       "            <dl>\n",
       "              <dt>Version</dt>\n",
       "                <dd><code>v3.5.0</code></dd>\n",
       "              <dt>Master</dt>\n",
       "                <dd><code>spark://spark-master:7077</code></dd>\n",
       "              <dt>AppName</dt>\n",
       "                <dd><code>spark-1733801092185</code></dd>\n",
       "            </dl>\n",
       "        </div>\n",
       "        \n",
       "            </div>\n",
       "        "
      ],
      "text/plain": [
       "<pyspark.sql.session.SparkSession at 0x7fffe2dc9ed0>"
      ]
     },
     "execution_count": 7,
     "metadata": {},
     "output_type": "execute_result"
    }
   ],
   "source": [
    "\n",
    "from pyspark.sql import SparkSession\n",
    "\n",
    "spark = SparkSession.builder\\\n",
    "    .appName(\"spark-1733801270245\")\\\n",
    "    .master(\"spark://spark-master:7077\")\\\n",
    "    .config(\"spark.jars.packages\", \"io.delta:delta-spark_2.12:3.0.0\")\\\n",
    "    .config(\"spark.sql.extensions\", \"io.delta.sql.DeltaSparkSessionExtension\")\\\n",
    "    .config(\"spark.sql.catalog.spark_catalog\", \"org.apache.spark.sql.delta.catalog.DeltaCatalog\")\\\n",
    "    .config(\"spark.eventLog.enabled\", \"true\")\\\n",
    "    .config(\"spark.eventLog.dir\", \"/opt/data/spark-events\")\\\n",
    "    .config(\"spark.history.fs.logDirectory\", \"/opt/data/spark-events\")\\\n",
    "    .config(\"spark.sql.warehouse.dir\", \"/opt/data/spark-warehouse\")\\\n",
    "    .config(\"spark.executor.memory\", \"1g\")\\\n",
    "    .config(\"spark.executor.cores\", 1)\\\n",
    "    .config(\"spark.executor.instances\", 1)\\\n",
    "    .config(\"spark.driver.memory\", \"1g\")\\\n",
    "    .config(\"spark.driver.cores\", 1)\\\n",
    "    .getOrCreate()\n",
    "\n",
    "spark\n"
   ]
  },
  {
   "cell_type": "markdown",
   "isExecuted": true,
   "metadata": {},
   "source": [
    "# Demo Notebook\n",
    "\n",
    "- This is just a demo notebook\n",
    "- For testing only"
   ]
  },
  {
   "cell_type": "code",
   "execution_count": null,
   "isExecuted": false,
   "lastExecutionResult": "success",
   "lastExecutionTime": "2024-08-04 15:29:17",
   "metadata": {},
   "outputs": [
    {
     "data": {
      "text/html": [
       "\n",
       "        <div style=\"border: 1px solid #e8e8e8; padding: 10px;\">\n",
       "            <h3>Spark Session Information</h3>\n",
       "            <p><strong>Application ID:</strong> app-20240804152430-0000</p>\n",
       "            <p><strong>Spark UI:</strong> <a href=\"http://localhost:18080/history/app-20240804152430-0000\">http://localhost:18080/history/app-20240804152430-0000</a></p>\n",
       "        </div>\n",
       "        "
      ],
      "text/plain": [
       "Custom Spark Session (App ID: app-20240804152430-0000) - UI: http://66eef2d0ade3:4040"
      ]
     },
     "execution_count": 4,
     "metadata": {},
     "output_type": "execute_result"
    }
   ],
   "source": [
    "# SparkSession is already defined in `spark` variable\n",
    "spark"
   ]
  },
  {
   "cell_type": "code",
   "execution_count": 1,
   "isExecuted": false,
   "metadata": {},
   "outputs": [
    {
     "ename": "NameError",
     "evalue": "name 'a' is not defined",
     "output_type": "error",
     "traceback": [
      "\u001b[0;31m---------------------------------------------------------------------------\u001b[0m",
      "\u001b[0;31mNameError\u001b[0m                                 Traceback (most recent call last)",
      "Cell \u001b[0;32mIn[1], line 1\u001b[0m\n\u001b[0;32m----> 1\u001b[0m \u001b[38;5;28mprint\u001b[39m(\u001b[43ma\u001b[49m \u001b[38;5;241m+\u001b[39m \u001b[38;5;124m\"\u001b[39m\u001b[38;5;124m2233666777888\u001b[39m\u001b[38;5;124m\"\u001b[39m)\n",
      "\u001b[0;31mNameError\u001b[0m: name 'a' is not defined"
     ]
    }
   ],
   "source": [
    "print(a + \"2233666777888\")"
   ]
  },
  {
   "cell_type": "code",
   "execution_count": null,
   "isExecuted": false,
   "metadata": {},
   "outputs": [
    {
     "name": "stdout",
     "output_type": "stream",
     "text": [
      "66\n",
      "77\n"
     ]
    }
   ],
   "source": [
    "print(66)\n",
    "print(77)"
   ]
  },
  {
   "cell_type": "code",
   "execution_count": null,
   "isExecuted": false,
   "metadata": {},
   "outputs": [],
   "source": [
    "spark.stop()"
   ]
  }
 ],
 "metadata": {
  "kernelspec": {
   "display_name": "Python 3 (ipykernel)",
   "language": "python",
   "name": "python3"
  },
  "language_info": {
   "codemirror_mode": {
    "name": "ipython",
    "version": 3
   },
   "file_extension": ".py",
   "mimetype": "text/x-python",
   "name": "python",
   "nbconvert_exporter": "python",
   "pygments_lexer": "ipython3",
   "version": "3.11.6"
  },
  "uuid": "647a82de-693a-48f0-ae3a-64a771d83da5"
 },
 "nbformat": 4,
 "nbformat_minor": 4
}
