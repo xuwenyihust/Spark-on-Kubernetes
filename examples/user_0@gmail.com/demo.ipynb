{
 "cells": [
  {
   "cell_type": "markdown",
   "isExecuted": true,
   "metadata": {},
   "source": [
    "# Demo Notebook\n",
    "\n",
    "- This is just a demo notebook\n",
    "- For testing only"
   ]
  },
  {
   "cell_type": "code",
   "isExecuted": false,
   "lastExecutionResult": "success",
   "lastExecutionTime": "2024-12-10 10:26:03",
   "metadata": {},
   "outputs": [
    {
     "data": {
      "text/html": [
       "\n",
       "        <div style=\"border: 1px solid #e8e8e8; padding: 10px;\">\n",
       "            <h3>Spark Session Information</h3>\n",
       "            <p><strong>Config:</strong> {'spark.driver.memory': '1g', 'spark.driver.cores': 1, 'spark.executor.memory': '1g', 'spark.executor.cores': 1, 'spark.executor.instances': 1, 'spark.dynamicAllocation.enabled': False}</p>\n",
       "            <p><strong>Application ID:</strong> app-20241210080310-0003</p>\n",
       "            <p><strong>Spark UI:</strong> <a href=\"http://localhost:18080/history/app-20241210080310-0003\">http://localhost:18080/history/app-20241210080310-0003</a></p>\n",
       "        </div>\n",
       "        "
      ],
      "text/plain": [
       "Custom Spark Session (App ID: app-20241210080310-0003) - UI: http://0edb0a63b2fb:4040"
      ]
     },
     "execution_count": 11,
     "metadata": {},
     "output_type": "execute_result"
    }
   ],
   "source": [
    "spark = create_spark(\"work/user_0@gmail.com/demo.ipynb\")\n",
    "spark"
   ]
  },
  {
   "cell_type": "code",
   "execution_count": null,
   "isExecuted": true,
   "lastExecutionResult": "success",
   "lastExecutionTime": "2024-12-10 12:27:14",
   "metadata": {},
   "outputs": [],
   "source": [
    "spark.stop()"
   ]
  }
 ],
 "metadata": {
  "kernelspec": {
   "display_name": "Python 3 (ipykernel)",
   "language": "python",
   "name": "python3"
  },
  "language_info": {
   "codemirror_mode": {
    "name": "ipython",
    "version": 3
   },
   "file_extension": ".py",
   "mimetype": "text/x-python",
   "name": "python",
   "nbconvert_exporter": "python",
   "pygments_lexer": "ipython3",
   "version": "3.11.6"
  },
  "uuid": "647a82de-693a-48f0-ae3a-64a771d83da5"
 },
 "nbformat": 4,
 "nbformat_minor": 4
}
